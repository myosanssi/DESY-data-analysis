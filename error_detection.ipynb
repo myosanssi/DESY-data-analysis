{
 "cells": [
  {
   "cell_type": "markdown",
   "id": "c23d66ab",
   "metadata": {},
   "source": [
    "## Error Detection"
   ]
  },
  {
   "cell_type": "markdown",
   "id": "080cabbf",
   "metadata": {},
   "source": [
    "### Importing"
   ]
  },
  {
   "cell_type": "code",
   "execution_count": 194,
   "id": "b8587dd2",
   "metadata": {},
   "outputs": [],
   "source": [
    "import polars as pl\n",
    "import pandas as pd\n",
    "import matplotlib.pyplot as plt\n",
    "import plotly.express as px\n",
    "import numpy as np\n",
    "\n",
    "plt.style.use(\"fivethirtyeight\")"
   ]
  },
  {
   "cell_type": "markdown",
   "id": "5360c8e1",
   "metadata": {},
   "source": [
    "### Data File"
   ]
  },
  {
   "cell_type": "code",
   "execution_count": 195,
   "id": "182b1d5b",
   "metadata": {},
   "outputs": [
    {
     "name": "stdout",
     "output_type": "stream",
     "text": [
      "shape: (15_527, 7)\n",
      "┌────────────┬─────────────┬────────────┬────────────┬────────────┬──────────────────┬─────────┐\n",
      "│ trigger_id ┆ trigger_clk ┆ sensor_1-2 ┆ sensor_3-4 ┆ sensor_5-6 ┆ internal_trigger ┆ veto_in │\n",
      "│ ---        ┆ ---         ┆ ---        ┆ ---        ┆ ---        ┆ ---              ┆ ---     │\n",
      "│ u16        ┆ u64         ┆ u8         ┆ u8         ┆ u8         ┆ bool             ┆ bool    │\n",
      "╞════════════╪═════════════╪════════════╪════════════╪════════════╪══════════════════╪═════════╡\n",
      "│ 0          ┆ 1882168984  ┆ 255        ┆ 255        ┆ 0          ┆ false            ┆ false   │\n",
      "│ 0          ┆ 1882176984  ┆ 255        ┆ 255        ┆ 0          ┆ false            ┆ false   │\n",
      "│ 0          ┆ 1072996353  ┆ 255        ┆ 255        ┆ 0          ┆ false            ┆ false   │\n",
      "│ 0          ┆ 1073038198  ┆ 255        ┆ 255        ┆ 0          ┆ false            ┆ false   │\n",
      "│ 0          ┆ 1073168771  ┆ 255        ┆ 255        ┆ 0          ┆ false            ┆ false   │\n",
      "│ …          ┆ …           ┆ …          ┆ …          ┆ …          ┆ …                ┆ …       │\n",
      "│ 0          ┆ 30369387948 ┆ 255        ┆ 255        ┆ 0          ┆ false            ┆ false   │\n",
      "│ 0          ┆ 30369461322 ┆ 255        ┆ 255        ┆ 0          ┆ false            ┆ false   │\n",
      "│ 0          ┆ 30375291132 ┆ 255        ┆ 255        ┆ 0          ┆ false            ┆ false   │\n",
      "│ 0          ┆ 30375698714 ┆ 255        ┆ 255        ┆ 32         ┆ false            ┆ true    │\n",
      "│ 0          ┆ 30375784591 ┆ 255        ┆ 255        ┆ 0          ┆ false            ┆ false   │\n",
      "└────────────┴─────────────┴────────────┴────────────┴────────────┴──────────────────┴─────────┘\n"
     ]
    }
   ],
   "source": [
    "df = pl.read_csv(\n",
    "    \"sept_17_21h44_first.csv\",\n",
    "    schema_overrides={\n",
    "        \"trigger_id\": pl.UInt16,\n",
    "        \"trigger_clk\": pl.UInt64,\n",
    "        \"integer_data\": pl.UInt32,\n",
    "        \"idk\": pl.UInt32,\n",
    "        \"sensor_1-2\": pl.Utf8,\n",
    "        \"sensor_3-4\": pl.Utf8,\n",
    "        \"sensor_5-6\": pl.Utf8,\n",
    "        \"internal_trigger\": pl.Boolean,\n",
    "        \"veto_in\": pl.Boolean\n",
    "    }\n",
    ")\n",
    "\n",
    "binary_cols = [\"sensor_1-2\", \"sensor_3-4\", \"sensor_5-6\"]\n",
    "\n",
    "df = df.with_columns([\n",
    "    pl.col(col)\n",
    "    .map_elements(lambda b: int(b, 2) if b is not None else None, return_dtype=pl.UInt8)\n",
    "    .alias(col)\n",
    "    for col in binary_cols\n",
    "])\n",
    "\n",
    "df = df.drop(\"integer_data\").drop(\"idk\")\n",
    "print(df)"
   ]
  },
  {
   "cell_type": "markdown",
   "id": "ae906df8",
   "metadata": {},
   "source": [
    "### Time Conversion"
   ]
  },
  {
   "cell_type": "code",
   "execution_count": 196,
   "id": "bf266aa3",
   "metadata": {},
   "outputs": [],
   "source": [
    "df = df.with_columns(\n",
    "    (pl.col(\"trigger_clk\") / 40000000).alias(\"trigger_clk\")\n",
    ")"
   ]
  },
  {
   "cell_type": "markdown",
   "id": "9b574bbb",
   "metadata": {},
   "source": [
    "#### Printing DataFrame"
   ]
  },
  {
   "cell_type": "code",
   "execution_count": 197,
   "id": "c23a7332",
   "metadata": {},
   "outputs": [
    {
     "name": "stdout",
     "output_type": "stream",
     "text": [
      "shape: (15_527, 7)\n",
      "┌────────────┬─────────────┬────────────┬────────────┬────────────┬──────────────────┬─────────┐\n",
      "│ trigger_id ┆ trigger_clk ┆ sensor_1-2 ┆ sensor_3-4 ┆ sensor_5-6 ┆ internal_trigger ┆ veto_in │\n",
      "│ ---        ┆ ---         ┆ ---        ┆ ---        ┆ ---        ┆ ---              ┆ ---     │\n",
      "│ u16        ┆ f64         ┆ u8         ┆ u8         ┆ u8         ┆ bool             ┆ bool    │\n",
      "╞════════════╪═════════════╪════════════╪════════════╪════════════╪══════════════════╪═════════╡\n",
      "│ 0          ┆ 47.054225   ┆ 255        ┆ 255        ┆ 0          ┆ false            ┆ false   │\n",
      "│ 0          ┆ 47.054425   ┆ 255        ┆ 255        ┆ 0          ┆ false            ┆ false   │\n",
      "│ 0          ┆ 26.824909   ┆ 255        ┆ 255        ┆ 0          ┆ false            ┆ false   │\n",
      "│ 0          ┆ 26.825955   ┆ 255        ┆ 255        ┆ 0          ┆ false            ┆ false   │\n",
      "│ 0          ┆ 26.829219   ┆ 255        ┆ 255        ┆ 0          ┆ false            ┆ false   │\n",
      "│ …          ┆ …           ┆ …          ┆ …          ┆ …          ┆ …                ┆ …       │\n",
      "│ 0          ┆ 759.234699  ┆ 255        ┆ 255        ┆ 0          ┆ false            ┆ false   │\n",
      "│ 0          ┆ 759.236533  ┆ 255        ┆ 255        ┆ 0          ┆ false            ┆ false   │\n",
      "│ 0          ┆ 759.382278  ┆ 255        ┆ 255        ┆ 0          ┆ false            ┆ false   │\n",
      "│ 0          ┆ 759.392468  ┆ 255        ┆ 255        ┆ 32         ┆ false            ┆ true    │\n",
      "│ 0          ┆ 759.394615  ┆ 255        ┆ 255        ┆ 0          ┆ false            ┆ false   │\n",
      "└────────────┴─────────────┴────────────┴────────────┴────────────┴──────────────────┴─────────┘\n"
     ]
    }
   ],
   "source": [
    "print(df)"
   ]
  },
  {
   "cell_type": "markdown",
   "id": "10a889a0",
   "metadata": {},
   "source": [
    "### Trigger Data Errors"
   ]
  },
  {
   "cell_type": "markdown",
   "id": "3808d797",
   "metadata": {},
   "source": [
    "#### Sensor 1-2"
   ]
  },
  {
   "cell_type": "code",
   "execution_count": 198,
   "id": "33d677fc",
   "metadata": {},
   "outputs": [
    {
     "data": {
      "text/plain": [
       "' td_df = df.with_columns(\\n    pl.col(\"sensor_1-2\").cast(pl.UInt8).map_elements(\\n        lambda x: format(x, \\'08b\\'),\\n        return_dtype=pl.String\\n    ).alias(\"trigger_data_binary\")\\n)\\n\\ntd_df = td_df.with_columns([\\n    pl.col(\"trigger_data_binary\").str.slice(i*2, 2).map_elements(\\n        lambda b: int(b, 2), return_dtype=pl.UInt8)\\n        .alias(f\"chunk_{i}\")\\n        for i in range(4)])\\n\\ntd_df = td_df.filter(\\n    pl.struct(td_df.columns).map_elements(lambda row: 0 not in row and 3 not in row)\\n)\\n\\ntd_df = td_df.drop(\"trigger_data_binary\").drop(\"sensor_1-2\")\\n\\ns12_df = td_df.select(\\n    [f\"chunk_{i}\" for i in range(4)]\\n)\\n\\nprint(s12_df) '"
      ]
     },
     "execution_count": 198,
     "metadata": {},
     "output_type": "execute_result"
    }
   ],
   "source": [
    "\"\"\" td_df = df.with_columns(\n",
    "    pl.col(\"sensor_1-2\").cast(pl.UInt8).map_elements(\n",
    "        lambda x: format(x, '08b'),\n",
    "        return_dtype=pl.String\n",
    "    ).alias(\"trigger_data_binary\")\n",
    ")\n",
    "\n",
    "td_df = td_df.with_columns([\n",
    "    pl.col(\"trigger_data_binary\").str.slice(i*2, 2).map_elements(\n",
    "        lambda b: int(b, 2), return_dtype=pl.UInt8)\n",
    "        .alias(f\"chunk_{i}\")\n",
    "        for i in range(4)])\n",
    "\n",
    "td_df = td_df.filter(\n",
    "    pl.struct(td_df.columns).map_elements(lambda row: 0 not in row and 3 not in row)\n",
    ")\n",
    "    \n",
    "td_df = td_df.drop(\"trigger_data_binary\").drop(\"sensor_1-2\")\n",
    "\n",
    "s12_df = td_df.select(\n",
    "    [f\"chunk_{i}\" for i in range(4)]\n",
    ")\n",
    "\n",
    "print(s12_df) \"\"\""
   ]
  },
  {
   "cell_type": "markdown",
   "id": "b3f057f7",
   "metadata": {},
   "source": [
    "### Trigger Data"
   ]
  },
  {
   "cell_type": "code",
   "execution_count": 199,
   "id": "057f8322",
   "metadata": {},
   "outputs": [],
   "source": [
    "def extract_chunks(df, col_name, chunk_start_idx):\n",
    "    df = df.with_columns(\n",
    "        pl.col(col_name)\n",
    "        .cast(pl.UInt8)\n",
    "        .map_elements(lambda x: format(x, '08b'), return_dtype=pl.String)\n",
    "        .alias(f\"{col_name}_binary\")\n",
    "    )\n",
    "    df = df.with_columns([\n",
    "        pl.col(f\"{col_name}_binary\")\n",
    "        .str.slice(i * 2, 2)\n",
    "        .map_elements(lambda b: int(b, 2), return_dtype=pl.UInt8)\n",
    "        .alias(f\"chunk_{chunk_start_idx + i}\")\n",
    "        for i in range(4)\n",
    "    ])\n",
    "    df = df.drop(f\"{col_name}_binary\")\n",
    "    return df\n",
    "\n",
    "df = extract_chunks(df, \"sensor_1-2\", 0)\n",
    "df = extract_chunks(df, \"sensor_3-4\", 4)\n",
    "df = extract_chunks(df, \"sensor_5-6\", 8)\n",
    "\n",
    "chunk_df = df.select([f\"chunk_{i}\" for i in range(12)])\n",
    "\n",
    "df = df.drop([f\"chunk_{i}\" for i in range(12)])\n"
   ]
  },
  {
   "cell_type": "markdown",
   "id": "7d895dcc",
   "metadata": {},
   "source": [
    "#### Printing DataFrames"
   ]
  },
  {
   "cell_type": "code",
   "execution_count": 200,
   "id": "e823decd",
   "metadata": {},
   "outputs": [
    {
     "name": "stdout",
     "output_type": "stream",
     "text": [
      "shape: (15_527, 4)\n",
      "┌─────────┬─────────┬─────────┬─────────┐\n",
      "│ chunk_0 ┆ chunk_1 ┆ chunk_2 ┆ chunk_3 │\n",
      "│ ---     ┆ ---     ┆ ---     ┆ ---     │\n",
      "│ u8      ┆ u8      ┆ u8      ┆ u8      │\n",
      "╞═════════╪═════════╪═════════╪═════════╡\n",
      "│ 3       ┆ 3       ┆ 3       ┆ 3       │\n",
      "│ 3       ┆ 3       ┆ 3       ┆ 3       │\n",
      "│ 3       ┆ 3       ┆ 3       ┆ 3       │\n",
      "│ 3       ┆ 3       ┆ 3       ┆ 3       │\n",
      "│ 3       ┆ 3       ┆ 3       ┆ 3       │\n",
      "│ …       ┆ …       ┆ …       ┆ …       │\n",
      "│ 3       ┆ 3       ┆ 3       ┆ 3       │\n",
      "│ 3       ┆ 3       ┆ 3       ┆ 3       │\n",
      "│ 3       ┆ 3       ┆ 3       ┆ 3       │\n",
      "│ 3       ┆ 3       ┆ 3       ┆ 3       │\n",
      "│ 3       ┆ 3       ┆ 3       ┆ 3       │\n",
      "└─────────┴─────────┴─────────┴─────────┘\n"
     ]
    }
   ],
   "source": [
    "s12_df = chunk_df.select([f\"chunk_{i}\" for i in range(4)])\n",
    "print(s12_df)"
   ]
  },
  {
   "cell_type": "code",
   "execution_count": 201,
   "id": "770c10bd",
   "metadata": {},
   "outputs": [
    {
     "name": "stdout",
     "output_type": "stream",
     "text": [
      "shape: (15_527, 4)\n",
      "┌─────────┬─────────┬─────────┬─────────┐\n",
      "│ chunk_4 ┆ chunk_5 ┆ chunk_6 ┆ chunk_7 │\n",
      "│ ---     ┆ ---     ┆ ---     ┆ ---     │\n",
      "│ u8      ┆ u8      ┆ u8      ┆ u8      │\n",
      "╞═════════╪═════════╪═════════╪═════════╡\n",
      "│ 3       ┆ 3       ┆ 3       ┆ 3       │\n",
      "│ 3       ┆ 3       ┆ 3       ┆ 3       │\n",
      "│ 3       ┆ 3       ┆ 3       ┆ 3       │\n",
      "│ 3       ┆ 3       ┆ 3       ┆ 3       │\n",
      "│ 3       ┆ 3       ┆ 3       ┆ 3       │\n",
      "│ …       ┆ …       ┆ …       ┆ …       │\n",
      "│ 3       ┆ 3       ┆ 3       ┆ 3       │\n",
      "│ 3       ┆ 3       ┆ 3       ┆ 3       │\n",
      "│ 3       ┆ 3       ┆ 3       ┆ 3       │\n",
      "│ 3       ┆ 3       ┆ 3       ┆ 3       │\n",
      "│ 3       ┆ 3       ┆ 3       ┆ 3       │\n",
      "└─────────┴─────────┴─────────┴─────────┘\n"
     ]
    }
   ],
   "source": [
    "s34_df = chunk_df.select([f\"chunk_{i}\" for i in range(4,8)])\n",
    "print(s34_df)"
   ]
  },
  {
   "cell_type": "code",
   "execution_count": 202,
   "id": "d74a6fb0",
   "metadata": {},
   "outputs": [
    {
     "name": "stdout",
     "output_type": "stream",
     "text": [
      "shape: (15_527, 4)\n",
      "┌─────────┬─────────┬──────────┬──────────┐\n",
      "│ chunk_8 ┆ chunk_9 ┆ chunk_10 ┆ chunk_11 │\n",
      "│ ---     ┆ ---     ┆ ---      ┆ ---      │\n",
      "│ u8      ┆ u8      ┆ u8       ┆ u8       │\n",
      "╞═════════╪═════════╪══════════╪══════════╡\n",
      "│ 0       ┆ 0       ┆ 0        ┆ 0        │\n",
      "│ 0       ┆ 0       ┆ 0        ┆ 0        │\n",
      "│ 0       ┆ 0       ┆ 0        ┆ 0        │\n",
      "│ 0       ┆ 0       ┆ 0        ┆ 0        │\n",
      "│ 0       ┆ 0       ┆ 0        ┆ 0        │\n",
      "│ …       ┆ …       ┆ …        ┆ …        │\n",
      "│ 0       ┆ 0       ┆ 0        ┆ 0        │\n",
      "│ 0       ┆ 0       ┆ 0        ┆ 0        │\n",
      "│ 0       ┆ 0       ┆ 0        ┆ 0        │\n",
      "│ 0       ┆ 2       ┆ 0        ┆ 0        │\n",
      "│ 0       ┆ 0       ┆ 0        ┆ 0        │\n",
      "└─────────┴─────────┴──────────┴──────────┘\n"
     ]
    }
   ],
   "source": [
    "s56_df = chunk_df.select([f\"chunk_{i}\" for i in range(8,12)])\n",
    "print(s56_df)"
   ]
  },
  {
   "cell_type": "markdown",
   "id": "0f7cd6eb",
   "metadata": {},
   "source": [
    "### Veto In Errors"
   ]
  },
  {
   "cell_type": "code",
   "execution_count": 203,
   "id": "5e8b4406",
   "metadata": {},
   "outputs": [],
   "source": [
    "vi_df = df.filter(pl.col(\"veto_in\") == True)"
   ]
  },
  {
   "cell_type": "markdown",
   "id": "396e0a1d",
   "metadata": {},
   "source": [
    "#### Printing DataFrames"
   ]
  },
  {
   "cell_type": "code",
   "execution_count": 204,
   "id": "d1a41864",
   "metadata": {},
   "outputs": [
    {
     "name": "stdout",
     "output_type": "stream",
     "text": [
      "shape: (1_237, 7)\n",
      "┌────────────┬─────────────┬────────────┬────────────┬────────────┬──────────────────┬─────────┐\n",
      "│ trigger_id ┆ trigger_clk ┆ sensor_1-2 ┆ sensor_3-4 ┆ sensor_5-6 ┆ internal_trigger ┆ veto_in │\n",
      "│ ---        ┆ ---         ┆ ---        ┆ ---        ┆ ---        ┆ ---              ┆ ---     │\n",
      "│ u16        ┆ f64         ┆ u8         ┆ u8         ┆ u8         ┆ bool             ┆ bool    │\n",
      "╞════════════╪═════════════╪════════════╪════════════╪════════════╪══════════════════╪═════════╡\n",
      "│ 0          ┆ 27.304063   ┆ 255        ┆ 255        ┆ 1          ┆ false            ┆ true    │\n",
      "│ 0          ┆ 27.475376   ┆ 255        ┆ 255        ┆ 2          ┆ false            ┆ true    │\n",
      "│ 0          ┆ 27.63347    ┆ 255        ┆ 255        ┆ 128        ┆ false            ┆ true    │\n",
      "│ 0          ┆ 27.671425   ┆ 255        ┆ 255        ┆ 128        ┆ false            ┆ true    │\n",
      "│ 0          ┆ 28.262075   ┆ 255        ┆ 255        ┆ 32         ┆ false            ┆ true    │\n",
      "│ …          ┆ …           ┆ …          ┆ …          ┆ …          ┆ …                ┆ …       │\n",
      "│ 0          ┆ 757.795242  ┆ 255        ┆ 255        ┆ 2          ┆ false            ┆ true    │\n",
      "│ 0          ┆ 758.663021  ┆ 255        ┆ 255        ┆ 128        ┆ false            ┆ true    │\n",
      "│ 0          ┆ 758.746499  ┆ 255        ┆ 255        ┆ 2          ┆ false            ┆ true    │\n",
      "│ 0          ┆ 759.062116  ┆ 255        ┆ 255        ┆ 16         ┆ false            ┆ true    │\n",
      "│ 0          ┆ 759.392468  ┆ 255        ┆ 255        ┆ 32         ┆ false            ┆ true    │\n",
      "└────────────┴─────────────┴────────────┴────────────┴────────────┴──────────────────┴─────────┘\n"
     ]
    }
   ],
   "source": [
    "print(vi_df)"
   ]
  },
  {
   "cell_type": "markdown",
   "id": "92c2150b",
   "metadata": {},
   "source": [
    "### Internal Trigger Errors"
   ]
  },
  {
   "cell_type": "code",
   "execution_count": 205,
   "id": "9c8ac21e",
   "metadata": {},
   "outputs": [],
   "source": [
    "it_df = df.filter(pl.col(\"internal_trigger\") == True)"
   ]
  },
  {
   "cell_type": "markdown",
   "id": "24cef2ee",
   "metadata": {},
   "source": [
    "#### Printing DataFrames"
   ]
  },
  {
   "cell_type": "code",
   "execution_count": 206,
   "id": "e4608ee4",
   "metadata": {},
   "outputs": [
    {
     "name": "stdout",
     "output_type": "stream",
     "text": [
      "shape: (0, 7)\n",
      "┌────────────┬─────────────┬────────────┬────────────┬────────────┬──────────────────┬─────────┐\n",
      "│ trigger_id ┆ trigger_clk ┆ sensor_1-2 ┆ sensor_3-4 ┆ sensor_5-6 ┆ internal_trigger ┆ veto_in │\n",
      "│ ---        ┆ ---         ┆ ---        ┆ ---        ┆ ---        ┆ ---              ┆ ---     │\n",
      "│ u16        ┆ f64         ┆ u8         ┆ u8         ┆ u8         ┆ bool             ┆ bool    │\n",
      "╞════════════╪═════════════╪════════════╪════════════╪════════════╪══════════════════╪═════════╡\n",
      "└────────────┴─────────────┴────────────┴────────────┴────────────┴──────────────────┴─────────┘\n"
     ]
    }
   ],
   "source": [
    "print(it_df)"
   ]
  },
  {
   "cell_type": "markdown",
   "id": "36f3d337",
   "metadata": {},
   "source": [
    "## Plotting"
   ]
  },
  {
   "cell_type": "code",
   "execution_count": 207,
   "id": "992e7362",
   "metadata": {},
   "outputs": [
    {
     "data": {
      "text/plain": [
       "'\\n-x = clk, y = faulty ids (tells us if there is an interval which issues happen)\\n-heat map (graph that changes color when get 0 or 2)\\n-3d gaussian distribution x = , y = , z = (tells us)\\n'"
      ]
     },
     "execution_count": 207,
     "metadata": {},
     "output_type": "execute_result"
    }
   ],
   "source": [
    "'''\n",
    "-x = clk, y = faulty ids (tells us if there is an interval which issues happen)\n",
    "-heat map (graph that changes color when get 0 or 2)\n",
    "-3d gaussian distribution x = , y = , z = (tells us)\n",
    "'''"
   ]
  },
  {
   "cell_type": "markdown",
   "id": "2d2f1897",
   "metadata": {},
   "source": [
    "### Faulty Rods at Intervals"
   ]
  },
  {
   "cell_type": "code",
   "execution_count": null,
   "id": "6753ec5e",
   "metadata": {},
   "outputs": [],
   "source": []
  },
  {
   "cell_type": "markdown",
   "id": "43ec3e7f",
   "metadata": {},
   "source": [
    "### Heat Map"
   ]
  },
  {
   "cell_type": "code",
   "execution_count": 208,
   "id": "7a28ed2c",
   "metadata": {},
   "outputs": [
    {
     "ename": "ColumnNotFoundError",
     "evalue": "unable to find column \"chunk_4\"; valid columns: [\"trigger_id\", \"trigger_clk\", \"sensor_1-2\", \"sensor_3-4\", \"internal_trigger\", \"veto_in\", \"chunk_0\", \"chunk_1\", \"chunk_2\", \"chunk_3\"]",
     "output_type": "error",
     "traceback": [
      "\u001b[31m---------------------------------------------------------------------------\u001b[39m",
      "\u001b[31mColumnNotFoundError\u001b[39m                       Traceback (most recent call last)",
      "\u001b[36mCell\u001b[39m\u001b[36m \u001b[39m\u001b[32mIn[208]\u001b[39m\u001b[32m, line 1\u001b[39m\n\u001b[32m----> \u001b[39m\u001b[32m1\u001b[39m hm_df = \u001b[43mtd_df\u001b[49m\u001b[43m.\u001b[49m\u001b[43mselect\u001b[49m\u001b[43m(\u001b[49m\u001b[43m[\u001b[49m\u001b[33;43mf\u001b[39;49m\u001b[33;43m\"\u001b[39;49m\u001b[33;43mchunk_\u001b[39;49m\u001b[38;5;132;43;01m{\u001b[39;49;00m\u001b[43mi\u001b[49m\u001b[38;5;132;43;01m}\u001b[39;49;00m\u001b[33;43m\"\u001b[39;49m\u001b[43m \u001b[49m\u001b[38;5;28;43;01mfor\u001b[39;49;00m\u001b[43m \u001b[49m\u001b[43mi\u001b[49m\u001b[43m \u001b[49m\u001b[38;5;129;43;01min\u001b[39;49;00m\u001b[43m \u001b[49m\u001b[38;5;28;43mrange\u001b[39;49m\u001b[43m(\u001b[49m\u001b[32;43m12\u001b[39;49m\u001b[43m)\u001b[49m\u001b[43m]\u001b[49m\u001b[43m)\u001b[49m\n\u001b[32m      2\u001b[39m \u001b[38;5;66;03m#print(hm_df)\u001b[39;00m\n\u001b[32m      3\u001b[39m \u001b[38;5;66;03m#print(hm_df.to_numy())\u001b[39;00m\n\u001b[32m      5\u001b[39m channel = [\u001b[33m\"\u001b[39m\u001b[33mchunk_1\u001b[39m\u001b[33m\"\u001b[39m, \u001b[33m\"\u001b[39m\u001b[33mchunk_2\u001b[39m\u001b[33m\"\u001b[39m, \u001b[33m\"\u001b[39m\u001b[33mchunk_3\u001b[39m\u001b[33m\"\u001b[39m, \u001b[33m\"\u001b[39m\u001b[33mchunk_4\u001b[39m\u001b[33m\"\u001b[39m, \u001b[33m\"\u001b[39m\u001b[33mchunk_5\u001b[39m\u001b[33m\"\u001b[39m, \u001b[33m\"\u001b[39m\u001b[33mchunk_6\u001b[39m\u001b[33m\"\u001b[39m, \u001b[33m\"\u001b[39m\u001b[33mchunk_7\u001b[39m\u001b[33m\"\u001b[39m,\n\u001b[32m      6\u001b[39m            \u001b[33m\"\u001b[39m\u001b[33mchunk_8\u001b[39m\u001b[33m\"\u001b[39m, \u001b[33m\"\u001b[39m\u001b[33mchunk_9\u001b[39m\u001b[33m\"\u001b[39m, \u001b[33m\"\u001b[39m\u001b[33mchunk_10\u001b[39m\u001b[33m\"\u001b[39m, \u001b[33m\"\u001b[39m\u001b[33mchunk_11\u001b[39m\u001b[33m\"\u001b[39m]\n",
      "\u001b[36mFile \u001b[39m\u001b[32m~\\AppData\\Local\\Packages\\PythonSoftwareFoundation.Python.3.11_qbz5n2kfra8p0\\LocalCache\\local-packages\\Python311\\site-packages\\polars\\dataframe\\frame.py:9990\u001b[39m, in \u001b[36mDataFrame.select\u001b[39m\u001b[34m(self, *exprs, **named_exprs)\u001b[39m\n\u001b[32m   9906\u001b[39m \u001b[38;5;250m\u001b[39m\u001b[33;03m\"\"\"\u001b[39;00m\n\u001b[32m   9907\u001b[39m \u001b[33;03mSelect columns from this DataFrame.\u001b[39;00m\n\u001b[32m   9908\u001b[39m \n\u001b[32m   (...)\u001b[39m\u001b[32m   9983\u001b[39m \u001b[33;03m└───────────┘\u001b[39;00m\n\u001b[32m   9984\u001b[39m \u001b[33;03m\"\"\"\u001b[39;00m\n\u001b[32m   9985\u001b[39m \u001b[38;5;28;01mfrom\u001b[39;00m\u001b[38;5;250m \u001b[39m\u001b[34;01mpolars\u001b[39;00m\u001b[34;01m.\u001b[39;00m\u001b[34;01mlazyframe\u001b[39;00m\u001b[34;01m.\u001b[39;00m\u001b[34;01mopt_flags\u001b[39;00m\u001b[38;5;250m \u001b[39m\u001b[38;5;28;01mimport\u001b[39;00m QueryOptFlags\n\u001b[32m   9987\u001b[39m \u001b[38;5;28;01mreturn\u001b[39;00m (\n\u001b[32m   9988\u001b[39m     \u001b[38;5;28;43mself\u001b[39;49m\u001b[43m.\u001b[49m\u001b[43mlazy\u001b[49m\u001b[43m(\u001b[49m\u001b[43m)\u001b[49m\n\u001b[32m   9989\u001b[39m \u001b[43m    \u001b[49m\u001b[43m.\u001b[49m\u001b[43mselect\u001b[49m\u001b[43m(\u001b[49m\u001b[43m*\u001b[49m\u001b[43mexprs\u001b[49m\u001b[43m,\u001b[49m\u001b[43m \u001b[49m\u001b[43m*\u001b[49m\u001b[43m*\u001b[49m\u001b[43mnamed_exprs\u001b[49m\u001b[43m)\u001b[49m\n\u001b[32m-> \u001b[39m\u001b[32m9990\u001b[39m \u001b[43m    \u001b[49m\u001b[43m.\u001b[49m\u001b[43mcollect\u001b[49m\u001b[43m(\u001b[49m\u001b[43moptimizations\u001b[49m\u001b[43m=\u001b[49m\u001b[43mQueryOptFlags\u001b[49m\u001b[43m.\u001b[49m\u001b[43m_eager\u001b[49m\u001b[43m(\u001b[49m\u001b[43m)\u001b[49m\u001b[43m)\u001b[49m\n\u001b[32m   9991\u001b[39m )\n",
      "\u001b[36mFile \u001b[39m\u001b[32m~\\AppData\\Local\\Packages\\PythonSoftwareFoundation.Python.3.11_qbz5n2kfra8p0\\LocalCache\\local-packages\\Python311\\site-packages\\polars\\_utils\\deprecation.py:97\u001b[39m, in \u001b[36mdeprecate_streaming_parameter.<locals>.decorate.<locals>.wrapper\u001b[39m\u001b[34m(*args, **kwargs)\u001b[39m\n\u001b[32m     93\u001b[39m         kwargs[\u001b[33m\"\u001b[39m\u001b[33mengine\u001b[39m\u001b[33m\"\u001b[39m] = \u001b[33m\"\u001b[39m\u001b[33min-memory\u001b[39m\u001b[33m\"\u001b[39m\n\u001b[32m     95\u001b[39m     \u001b[38;5;28;01mdel\u001b[39;00m kwargs[\u001b[33m\"\u001b[39m\u001b[33mstreaming\u001b[39m\u001b[33m\"\u001b[39m]\n\u001b[32m---> \u001b[39m\u001b[32m97\u001b[39m \u001b[38;5;28;01mreturn\u001b[39;00m \u001b[43mfunction\u001b[49m\u001b[43m(\u001b[49m\u001b[43m*\u001b[49m\u001b[43margs\u001b[49m\u001b[43m,\u001b[49m\u001b[43m \u001b[49m\u001b[43m*\u001b[49m\u001b[43m*\u001b[49m\u001b[43mkwargs\u001b[49m\u001b[43m)\u001b[49m\n",
      "\u001b[36mFile \u001b[39m\u001b[32m~\\AppData\\Local\\Packages\\PythonSoftwareFoundation.Python.3.11_qbz5n2kfra8p0\\LocalCache\\local-packages\\Python311\\site-packages\\polars\\lazyframe\\opt_flags.py:330\u001b[39m, in \u001b[36mforward_old_opt_flags.<locals>.decorate.<locals>.wrapper\u001b[39m\u001b[34m(*args, **kwargs)\u001b[39m\n\u001b[32m    327\u001b[39m         optflags = cb(optflags, kwargs.pop(key))  \u001b[38;5;66;03m# type: ignore[no-untyped-call,unused-ignore]\u001b[39;00m\n\u001b[32m    329\u001b[39m kwargs[\u001b[33m\"\u001b[39m\u001b[33moptimizations\u001b[39m\u001b[33m\"\u001b[39m] = optflags\n\u001b[32m--> \u001b[39m\u001b[32m330\u001b[39m \u001b[38;5;28;01mreturn\u001b[39;00m \u001b[43mfunction\u001b[49m\u001b[43m(\u001b[49m\u001b[43m*\u001b[49m\u001b[43margs\u001b[49m\u001b[43m,\u001b[49m\u001b[43m \u001b[49m\u001b[43m*\u001b[49m\u001b[43m*\u001b[49m\u001b[43mkwargs\u001b[49m\u001b[43m)\u001b[49m\n",
      "\u001b[36mFile \u001b[39m\u001b[32m~\\AppData\\Local\\Packages\\PythonSoftwareFoundation.Python.3.11_qbz5n2kfra8p0\\LocalCache\\local-packages\\Python311\\site-packages\\polars\\lazyframe\\frame.py:2407\u001b[39m, in \u001b[36mLazyFrame.collect\u001b[39m\u001b[34m(self, type_coercion, predicate_pushdown, projection_pushdown, simplify_expression, slice_pushdown, comm_subplan_elim, comm_subexpr_elim, cluster_with_columns, collapse_joins, no_optimization, engine, background, optimizations, **_kwargs)\u001b[39m\n\u001b[32m   2405\u001b[39m \u001b[38;5;66;03m# Only for testing purposes\u001b[39;00m\n\u001b[32m   2406\u001b[39m callback = _kwargs.get(\u001b[33m\"\u001b[39m\u001b[33mpost_opt_callback\u001b[39m\u001b[33m\"\u001b[39m, callback)\n\u001b[32m-> \u001b[39m\u001b[32m2407\u001b[39m \u001b[38;5;28;01mreturn\u001b[39;00m wrap_df(\u001b[43mldf\u001b[49m\u001b[43m.\u001b[49m\u001b[43mcollect\u001b[49m\u001b[43m(\u001b[49m\u001b[43mengine\u001b[49m\u001b[43m,\u001b[49m\u001b[43m \u001b[49m\u001b[43mcallback\u001b[49m\u001b[43m)\u001b[49m)\n",
      "\u001b[31mColumnNotFoundError\u001b[39m: unable to find column \"chunk_4\"; valid columns: [\"trigger_id\", \"trigger_clk\", \"sensor_1-2\", \"sensor_3-4\", \"internal_trigger\", \"veto_in\", \"chunk_0\", \"chunk_1\", \"chunk_2\", \"chunk_3\"]"
     ]
    }
   ],
   "source": [
    "hm_df = td_df.select([f\"chunk_{i}\" for i in range(12)])\n",
    "#print(hm_df)\n",
    "#print(hm_df.to_numy())\n",
    "\n",
    "channel = [\"chunk_1\", \"chunk_2\", \"chunk_3\", \"chunk_4\", \"chunk_5\", \"chunk_6\", \"chunk_7\",\n",
    "           \"chunk_8\", \"chunk_9\", \"chunk_10\", \"chunk_11\"]\n",
    "\n",
    "\"\"\" time = vi_df[\"trigger_clk\"]\n",
    "data = [channel, time, hm_df]\n",
    "\n",
    "fig = px.imshow(hm_df,\n",
    "                labels=dict(x=\"Channels\", y=\"Time?? (s)\", color=\"Activtion Type\"),\n",
    "                x=[\"0/1\",\"2/3\", \"4/5\", \"6/7\", \"8/9\",\"10/11\", \"12/13\", \"14/15\",\n",
    "            \"16/17\", \"18/19\", \"20/21\", \"22/23\"]\n",
    "               ) \"\"\"\n",
    "\n",
    "# limits to 10000 data points because won't render with all\n",
    "fig = px.imshow(hm_df.to_numpy()[:10000],aspect='auto', labels=dict(x=\"Channels\",\n",
    "        y=\"Time (s)\", title=\"SiPM Activation Type per Seconds\", color=\"Activation Type\"),\n",
    "                x=[\"0/1\",\"2/3\", \"4/5\", \"6/7\", \"8/9\",\"10/11\", \"12/13\", \"14/15\",\n",
    "            \"16/17\", \"18/19\", \"20/21\", \"22/23\"], color_continuous_scale=\"twilight\") #or hsv (for fun)\n",
    "\n",
    "fig.update_xaxes(side=\"top\")\n",
    "\n",
    "fig.show()"
   ]
  },
  {
   "cell_type": "markdown",
   "id": "ed24797c",
   "metadata": {},
   "source": [
    "### Gaussian Distribution"
   ]
  },
  {
   "cell_type": "code",
   "execution_count": null,
   "id": "1d0eca4d",
   "metadata": {},
   "outputs": [],
   "source": [
    "## SEE EVAN'S CODE ##"
   ]
  },
  {
   "cell_type": "markdown",
   "id": "5be7c1ad",
   "metadata": {},
   "source": [
    "### Bar Graph"
   ]
  },
  {
   "cell_type": "code",
   "execution_count": null,
   "id": "b35fa972",
   "metadata": {},
   "outputs": [],
   "source": [
    "hm_df = td_df.select([f\"chunk_{i}\" for i in range(12)])\n",
    "#print(hm_df)\n",
    "\n",
    "#zero = []\n",
    "#for col in hm_df:\n",
    "#    for row in col:\n",
    "#        if row == 0:\n",
    "#            zero.append(col)\n",
    "#        else:\n",
    "#            continue\n",
    "#\n",
    "#zero_value = len(zero)\n",
    "##\n",
    "#one = []\n",
    "#for col in hm_df:\n",
    "#    for row in col:\n",
    "#        if row == 1:\n",
    "#            one.append(col)\n",
    "#        else:\n",
    "#            continue\n",
    "#\n",
    "#one_value = len(one)\n",
    "##\n",
    "#two = []\n",
    "#for col in hm_df:\n",
    "#    for row in col:\n",
    "#        if row == 2:\n",
    "#            one.append(col)\n",
    "#        else:\n",
    "#            continue\n",
    "#\n",
    "#two_value = len(two)\n",
    "##\n",
    "#three = []\n",
    "#for col in hm_df:\n",
    "#    for row in col:\n",
    "#        if row == 3:\n",
    "#            one.append(col)\n",
    "#        else:\n",
    "#            continue\n",
    "#\n",
    "#three_value = len(three)\n",
    "\n",
    "\n",
    "value_counts = hm_df.unpivot().get_column(\"value\").value_counts().to_numpy()\n",
    "\n",
    "#value_counts = value_counts.to_numpy()\n",
    "#print(array)\n",
    "\n",
    "t0x, t0y = np.where(value_counts==0)\n",
    "t1x, t1y = np.where(value_counts==1)\n",
    "t2x, t2y = np.where(value_counts==2)\n",
    "t3x, t3y = np.where(value_counts==3)\n",
    "#print(f'zero is {array[t0x, t0y+1]}')\n",
    "\n",
    "#c = value_counts.transpose()\n",
    "#print(14, c)\n",
    "#\n",
    "##print(zero_value, one_value, two_value, three_value)\n",
    "#print(value_counts)\n",
    "#print(0, value_counts.row(1), 1, value_counts.row(3), 2, value_counts.row(2), 3, value_counts.row(0),)\n",
    "#\n",
    "#zero = value_counts.filter(pl.col('value')=='0')\n",
    "#print(f'zero is {zero}')\n",
    "\n",
    "\n",
    "hit_events = {\n",
    "    \"nonevent\" : 0,\n",
    "    \"0/0\" : value_counts[t0x, t0y+1][0],\n",
    "    \"0/1\" : value_counts[t1x, t1y+1][0],\n",
    "    \"1/0\" : value_counts[t2x, t2y+1][0],\n",
    "    \"1/1\" : value_counts[t3x, t3y+1][0],\n",
    "}\n",
    "groups = {\n",
    "    \"Normal\"   : [\"nonevent\", \"0/1\", \"1/0\"],\n",
    "    \"Abnormal\" : [\"nonevent\", \"0/0\", \"1/1\"],\n",
    "}\n",
    "\n",
    "width = 0.5\n",
    "\n",
    "fig, ax = plt.subplots()\n",
    "\n",
    "\n",
    "for group in groups:\n",
    "    for idx, subtype in enumerate(groups[group]):\n",
    "        if idx==0:\n",
    "            continue\n",
    "\n",
    "        top    = hit_events[groups[group][idx]]\n",
    "        bottom = hit_events[groups[group][idx-1]]\n",
    "        height = top+bottom\n",
    "        #print(f'good to here', group, height, bottom, groups[group][idx], top)\n",
    "        this_bar = ax.bar(x=group, height=height, bottom=bottom, label=groups[group][idx])\n",
    "        ax.bar_label(this_bar, label_type='center')\n",
    "\n",
    "#for teaching purposes (pls ignore)\n",
    "\"\"\" for group in groups:\n",
    "    for idx, subtype in enumerate(groups[group]):\n",
    "        if idx==0:\n",
    "            continue\n",
    "\n",
    "        box2 = groups[group]\n",
    "\n",
    "        current_value = box2[idx]\n",
    "        previous_value = box2[idx-1]\n",
    "\n",
    "        top    = hit_events[current_value]\n",
    "        bottom = hit_events[previous_value]\n",
    "        this_bar = ax.bar(x=group, height=top-bottom, bottom=bottom, label=current_value)\n",
    "        ax.bar_label(this_bar, label_type='center') \"\"\" \n",
    "\n",
    "ax.legend()\n",
    "\n",
    "ax.set_title(\"All Hits\")\n",
    "ax.set_ylabel(\"Hit Count\")\n",
    "\n",
    "plt.tight_layout()\n",
    "plt.show()\n"
   ]
  }
 ],
 "metadata": {
  "kernelspec": {
   "display_name": "Python 3",
   "language": "python",
   "name": "python3"
  },
  "language_info": {
   "codemirror_mode": {
    "name": "ipython",
    "version": 3
   },
   "file_extension": ".py",
   "mimetype": "text/x-python",
   "name": "python",
   "nbconvert_exporter": "python",
   "pygments_lexer": "ipython3",
   "version": "3.11.9"
  }
 },
 "nbformat": 4,
 "nbformat_minor": 5
}
