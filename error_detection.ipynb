{
 "cells": [
  {
   "cell_type": "markdown",
   "id": "c23d66ab",
   "metadata": {},
   "source": [
    "## Error Detection"
   ]
  },
  {
   "cell_type": "markdown",
   "id": "080cabbf",
   "metadata": {},
   "source": [
    "### Importing"
   ]
  },
  {
   "cell_type": "code",
   "execution_count": null,
   "id": "b8587dd2",
   "metadata": {},
   "outputs": [],
   "source": [
    "import polars as pl\n",
    "import pandas as pd\n",
    "import matplotlib.pyplot as plt\n",
    "import plotly.express as px\n",
    "import numpy as np\n",
    "\n",
    "plt.style.use(\"fivethirtyeight\")"
   ]
  },
  {
   "cell_type": "markdown",
   "id": "5360c8e1",
   "metadata": {},
   "source": [
    "### Data File"
   ]
  },
  {
   "cell_type": "code",
   "execution_count": null,
   "id": "182b1d5b",
   "metadata": {},
   "outputs": [],
   "source": [
    "df = pl.read_csv(\n",
    "    \"sept_17_21h44_first.csv\",\n",
    "    schema_overrides={\n",
    "        \"trigger_id\": pl.UInt16,\n",
    "        \"trigger_clk\": pl.UInt64,\n",
    "        \"integer_data\": pl.UInt32,\n",
    "        \"idk\": pl.UInt32,\n",
    "        \"sensor_1-2\": pl.Utf8,\n",
    "        \"sensor_3-4\": pl.Utf8,\n",
    "        \"sensor_5-6\": pl.Utf8,\n",
    "        \"internal_trigger\": pl.Boolean,\n",
    "        \"veto_in\": pl.Boolean\n",
    "    }\n",
    ")\n",
    "\n",
    "binary_cols = [\"sensor_1-2\", \"sensor_3-4\", \"sensor_5-6\"]\n",
    "\n",
    "df = df.with_columns([\n",
    "    pl.col(col)\n",
    "    .map_elements(lambda b: int(b, 2) if b is not None else None, return_dtype=pl.UInt8)\n",
    "    .alias(col)\n",
    "    for col in binary_cols\n",
    "])\n",
    "\n",
    "df = df.drop(\"integer_data\").drop(\"idk\")\n",
    "print(df)"
   ]
  },
  {
   "cell_type": "markdown",
   "id": "ae906df8",
   "metadata": {},
   "source": [
    "### Time Conversion"
   ]
  },
  {
   "cell_type": "code",
   "execution_count": null,
   "id": "bf266aa3",
   "metadata": {},
   "outputs": [],
   "source": [
    "df = df.with_columns(\n",
    "    (pl.col(\"trigger_clk\") / 40000000).alias(\"trigger_clk\")\n",
    ")"
   ]
  },
  {
   "cell_type": "markdown",
   "id": "9b574bbb",
   "metadata": {},
   "source": [
    "#### Printing DataFrame"
   ]
  },
  {
   "cell_type": "code",
   "execution_count": null,
   "id": "c23a7332",
   "metadata": {},
   "outputs": [],
   "source": [
    "print(df)"
   ]
  },
  {
   "cell_type": "markdown",
   "id": "10a889a0",
   "metadata": {},
   "source": [
    "### Trigger Data Errors"
   ]
  },
  {
   "cell_type": "code",
   "execution_count": null,
   "id": "057f8322",
   "metadata": {},
   "outputs": [],
   "source": [
    "def extract_chunks(df, col_name, chunk_start_idx):\n",
    "    df = df.with_columns(\n",
    "        pl.col(col_name)\n",
    "        .cast(pl.UInt8)\n",
    "        .map_elements(lambda x: format(x, '08b'), return_dtype=pl.String)\n",
    "        .alias(f\"{col_name}_binary\")\n",
    "    )\n",
    "    df = df.with_columns([\n",
    "        pl.col(f\"{col_name}_binary\")\n",
    "        .str.slice(i * 2, 2)\n",
    "        .map_elements(lambda b: int(b, 2), return_dtype=pl.UInt8)\n",
    "        .alias(f\"chunk_{chunk_start_idx + i}\")\n",
    "        for i in range(4)\n",
    "    ])\n",
    "    df = df.drop(f\"{col_name}_binary\")\n",
    "    return df\n",
    "\n",
    "df = extract_chunks(df, \"sensor_1-2\", 0)\n",
    "df = extract_chunks(df, \"sensor_3-4\", 4)\n",
    "df = extract_chunks(df, \"sensor_5-6\", 8)\n",
    "\n",
    "chunk_df = df.select([f\"chunk_{i}\" for i in range(12)])\n",
    "\n",
    "df = df.drop([f\"chunk_{i}\" for i in range(12)])\n"
   ]
  },
  {
   "cell_type": "markdown",
   "id": "7d895dcc",
   "metadata": {},
   "source": [
    "#### Printing DataFrames"
   ]
  },
  {
   "cell_type": "code",
   "execution_count": null,
   "id": "e823decd",
   "metadata": {},
   "outputs": [],
   "source": [
    "s12_df = chunk_df.select([f\"chunk_{i}\" for i in range(4)])\n",
    "print(s12_df)"
   ]
  },
  {
   "cell_type": "code",
   "execution_count": null,
   "id": "770c10bd",
   "metadata": {},
   "outputs": [],
   "source": [
    "s34_df = chunk_df.select([f\"chunk_{i}\" for i in range(4,8)])\n",
    "print(s34_df)"
   ]
  },
  {
   "cell_type": "code",
   "execution_count": null,
   "id": "d74a6fb0",
   "metadata": {},
   "outputs": [],
   "source": [
    "s56_df = chunk_df.select([f\"chunk_{i}\" for i in range(8,12)])\n",
    "print(s56_df)"
   ]
  },
  {
   "cell_type": "markdown",
   "id": "0f7cd6eb",
   "metadata": {},
   "source": [
    "### Veto In Errors"
   ]
  },
  {
   "cell_type": "code",
   "execution_count": null,
   "id": "5e8b4406",
   "metadata": {},
   "outputs": [],
   "source": [
    "vi_df = df.filter(pl.col(\"veto_in\") == True)"
   ]
  },
  {
   "cell_type": "markdown",
   "id": "396e0a1d",
   "metadata": {},
   "source": [
    "#### Printing DataFrames"
   ]
  },
  {
   "cell_type": "code",
   "execution_count": null,
   "id": "d1a41864",
   "metadata": {},
   "outputs": [],
   "source": [
    "print(vi_df)"
   ]
  },
  {
   "cell_type": "markdown",
   "id": "92c2150b",
   "metadata": {},
   "source": [
    "### Internal Trigger Errors"
   ]
  },
  {
   "cell_type": "code",
   "execution_count": null,
   "id": "9c8ac21e",
   "metadata": {},
   "outputs": [],
   "source": [
    "it_df = df.filter(pl.col(\"internal_trigger\") == True)"
   ]
  },
  {
   "cell_type": "markdown",
   "id": "24cef2ee",
   "metadata": {},
   "source": [
    "#### Printing DataFrames"
   ]
  },
  {
   "cell_type": "code",
   "execution_count": null,
   "id": "e4608ee4",
   "metadata": {},
   "outputs": [],
   "source": [
    "print(it_df)"
   ]
  },
  {
   "cell_type": "markdown",
   "id": "36f3d337",
   "metadata": {},
   "source": [
    "## Plotting"
   ]
  },
  {
   "cell_type": "markdown",
   "id": "43ec3e7f",
   "metadata": {},
   "source": [
    "### Heat Map"
   ]
  },
  {
   "cell_type": "code",
   "execution_count": null,
   "id": "7a28ed2c",
   "metadata": {},
   "outputs": [],
   "source": [
    "hm_df = td_df.select([f\"chunk_{i}\" for i in range(12)])\n",
    "#print(hm_df)\n",
    "#print(hm_df.to_numy())\n",
    "\n",
    "channel = [\"chunk_1\", \"chunk_2\", \"chunk_3\", \"chunk_4\", \"chunk_5\", \"chunk_6\", \"chunk_7\",\n",
    "           \"chunk_8\", \"chunk_9\", \"chunk_10\", \"chunk_11\"]\n",
    "\n",
    "\"\"\" time = vi_df[\"trigger_clk\"]\n",
    "data = [channel, time, hm_df]\n",
    "\n",
    "fig = px.imshow(hm_df,\n",
    "                labels=dict(x=\"Channels\", y=\"Time?? (s)\", color=\"Activtion Type\"),\n",
    "                x=[\"0/1\",\"2/3\", \"4/5\", \"6/7\", \"8/9\",\"10/11\", \"12/13\", \"14/15\",\n",
    "            \"16/17\", \"18/19\", \"20/21\", \"22/23\"]\n",
    "               ) \"\"\"\n",
    "\n",
    "# limits to 10000 data points because won't render with all\n",
    "fig = px.imshow(hm_df.to_numpy()[:10000],aspect='auto', labels=dict(x=\"Channels\",\n",
    "        y=\"Time (s)\", title=\"SiPM Activation Type per Seconds\", color=\"Activation Type\"),\n",
    "                x=[\"0/1\",\"2/3\", \"4/5\", \"6/7\", \"8/9\",\"10/11\", \"12/13\", \"14/15\",\n",
    "            \"16/17\", \"18/19\", \"20/21\", \"22/23\"], color_continuous_scale=\"twilight\") #or hsv (for fun)\n",
    "\n",
    "fig.update_xaxes(side=\"top\")\n",
    "\n",
    "fig.show()"
   ]
  },
  {
   "cell_type": "markdown",
   "id": "ed24797c",
   "metadata": {},
   "source": [
    "### Gaussian Distribution"
   ]
  },
  {
   "cell_type": "code",
   "execution_count": null,
   "id": "1d0eca4d",
   "metadata": {},
   "outputs": [],
   "source": [
    "## SEE EVAN'S CODE ##"
   ]
  },
  {
   "cell_type": "markdown",
   "id": "5be7c1ad",
   "metadata": {},
   "source": [
    "### Bar Graph"
   ]
  },
  {
   "cell_type": "code",
   "execution_count": null,
   "id": "b35fa972",
   "metadata": {},
   "outputs": [],
   "source": [
    "hm_df = td_df.select([f\"chunk_{i}\" for i in range(12)])\n",
    "#print(hm_df)\n",
    "\n",
    "#zero = []\n",
    "#for col in hm_df:\n",
    "#    for row in col:\n",
    "#        if row == 0:\n",
    "#            zero.append(col)\n",
    "#        else:\n",
    "#            continue\n",
    "#\n",
    "#zero_value = len(zero)\n",
    "##\n",
    "#one = []\n",
    "#for col in hm_df:\n",
    "#    for row in col:\n",
    "#        if row == 1:\n",
    "#            one.append(col)\n",
    "#        else:\n",
    "#            continue\n",
    "#\n",
    "#one_value = len(one)\n",
    "##\n",
    "#two = []\n",
    "#for col in hm_df:\n",
    "#    for row in col:\n",
    "#        if row == 2:\n",
    "#            one.append(col)\n",
    "#        else:\n",
    "#            continue\n",
    "#\n",
    "#two_value = len(two)\n",
    "##\n",
    "#three = []\n",
    "#for col in hm_df:\n",
    "#    for row in col:\n",
    "#        if row == 3:\n",
    "#            one.append(col)\n",
    "#        else:\n",
    "#            continue\n",
    "#\n",
    "#three_value = len(three)\n",
    "\n",
    "\n",
    "value_counts = hm_df.unpivot().get_column(\"value\").value_counts().to_numpy()\n",
    "\n",
    "#value_counts = value_counts.to_numpy()\n",
    "#print(array)\n",
    "\n",
    "t0x, t0y = np.where(value_counts==0)\n",
    "t1x, t1y = np.where(value_counts==1)\n",
    "t2x, t2y = np.where(value_counts==2)\n",
    "t3x, t3y = np.where(value_counts==3)\n",
    "#print(f'zero is {array[t0x, t0y+1]}')\n",
    "\n",
    "#c = value_counts.transpose()\n",
    "#print(14, c)\n",
    "#\n",
    "##print(zero_value, one_value, two_value, three_value)\n",
    "#print(value_counts)\n",
    "#print(0, value_counts.row(1), 1, value_counts.row(3), 2, value_counts.row(2), 3, value_counts.row(0),)\n",
    "#\n",
    "#zero = value_counts.filter(pl.col('value')=='0')\n",
    "#print(f'zero is {zero}')\n",
    "\n",
    "\n",
    "hit_events = {\n",
    "    \"nonevent\" : 0,\n",
    "    \"0/0\" : value_counts[t0x, t0y+1][0],\n",
    "    \"0/1\" : value_counts[t1x, t1y+1][0],\n",
    "    \"1/0\" : value_counts[t2x, t2y+1][0],\n",
    "    \"1/1\" : value_counts[t3x, t3y+1][0],\n",
    "}\n",
    "groups = {\n",
    "    \"Normal\"   : [\"nonevent\", \"0/1\", \"1/0\"],\n",
    "    \"Abnormal\" : [\"nonevent\", \"0/0\", \"1/1\"],\n",
    "}\n",
    "\n",
    "width = 0.5\n",
    "\n",
    "fig, ax = plt.subplots()\n",
    "\n",
    "\n",
    "for group in groups:\n",
    "    for idx, subtype in enumerate(groups[group]):\n",
    "        if idx==0:\n",
    "            continue\n",
    "\n",
    "        top    = hit_events[groups[group][idx]]\n",
    "        bottom = hit_events[groups[group][idx-1]]\n",
    "        height = top+bottom\n",
    "        #print(f'good to here', group, height, bottom, groups[group][idx], top)\n",
    "        this_bar = ax.bar(x=group, height=height, bottom=bottom, label=groups[group][idx])\n",
    "        ax.bar_label(this_bar, label_type='center')\n",
    "\n",
    "#for teaching purposes (pls ignore)\n",
    "\"\"\" for group in groups:\n",
    "    for idx, subtype in enumerate(groups[group]):\n",
    "        if idx==0:\n",
    "            continue\n",
    "\n",
    "        box2 = groups[group]\n",
    "\n",
    "        current_value = box2[idx]\n",
    "        previous_value = box2[idx-1]\n",
    "\n",
    "        top    = hit_events[current_value]\n",
    "        bottom = hit_events[previous_value]\n",
    "        this_bar = ax.bar(x=group, height=top-bottom, bottom=bottom, label=current_value)\n",
    "        ax.bar_label(this_bar, label_type='center') \"\"\" \n",
    "\n",
    "ax.legend()\n",
    "\n",
    "ax.set_title(\"All Hits\")\n",
    "ax.set_ylabel(\"Hit Count\")\n",
    "\n",
    "plt.tight_layout()\n",
    "plt.show()\n"
   ]
  }
 ],
 "metadata": {
  "kernelspec": {
   "display_name": "Python 3",
   "language": "python",
   "name": "python3"
  },
  "language_info": {
   "codemirror_mode": {
    "name": "ipython",
    "version": 3
   },
   "file_extension": ".py",
   "mimetype": "text/x-python",
   "name": "python",
   "nbconvert_exporter": "python",
   "pygments_lexer": "ipython3",
   "version": "3.11.9"
  }
 },
 "nbformat": 4,
 "nbformat_minor": 5
}
